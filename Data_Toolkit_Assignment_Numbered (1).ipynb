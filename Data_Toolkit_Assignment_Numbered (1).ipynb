{
  "cells": [
    {
      "cell_type": "markdown",
      "id": "eb555c78",
      "metadata": {
        "id": "eb555c78"
      },
      "source": [
        "### Theory Q1: What is NumPy, and why is it widely used in Python"
      ]
    },
    {
      "cell_type": "markdown",
      "id": "29547296",
      "metadata": {
        "id": "29547296"
      },
      "source": [
        "**Answer:** NumPy is a Python library used for numerical computing. It is widely used because it provides fast array operations, supports multidimensional arrays, and integrates well with other data science libraries."
      ]
    },
    {
      "cell_type": "markdown",
      "id": "18a6147a",
      "metadata": {
        "id": "18a6147a"
      },
      "source": [
        "### Theory Q2: How does broadcasting work in NumPy"
      ]
    },
    {
      "cell_type": "markdown",
      "id": "616e69e9",
      "metadata": {
        "id": "616e69e9"
      },
      "source": [
        "**Answer:** Broadcasting in NumPy allows arrays of different shapes to be used in arithmetic operations. Smaller arrays are 'broadcast' over larger ones to match dimensions automatically."
      ]
    },
    {
      "cell_type": "markdown",
      "id": "3118aea2",
      "metadata": {
        "id": "3118aea2"
      },
      "source": [
        "### Theory Q3: What is a Pandas DataFrame"
      ]
    },
    {
      "cell_type": "markdown",
      "id": "e9568c2a",
      "metadata": {
        "id": "e9568c2a"
      },
      "source": [
        "**Answer:** A Pandas DataFrame is a two-dimensional labeled data structure with rows and columns, similar to a spreadsheet or SQL table."
      ]
    },
    {
      "cell_type": "markdown",
      "id": "84ebfdd9",
      "metadata": {
        "id": "84ebfdd9"
      },
      "source": [
        "### Theory Q4: Explain the use of the groupby() method in Pandas"
      ]
    },
    {
      "cell_type": "markdown",
      "id": "335582dd",
      "metadata": {
        "id": "335582dd"
      },
      "source": [
        "**Answer:** The groupby() method in Pandas is used to split data into groups based on some criteria, then apply functions like sum, mean, or count on each group."
      ]
    },
    {
      "cell_type": "markdown",
      "id": "d0171b78",
      "metadata": {
        "id": "d0171b78"
      },
      "source": [
        "### Theory Q5: Why is Seaborn preferred for statistical visualizations"
      ]
    },
    {
      "cell_type": "markdown",
      "id": "cb6b3300",
      "metadata": {
        "id": "cb6b3300"
      },
      "source": [
        "**Answer:** Seaborn is preferred for statistical visualizations because it provides high-level functions to create informative and attractive graphs easily, especially for data distributions and relationships."
      ]
    },
    {
      "cell_type": "markdown",
      "id": "116778ff",
      "metadata": {
        "id": "116778ff"
      },
      "source": [
        "### Theory Q6: What are the differences between NumPy arrays and Python lists"
      ]
    },
    {
      "cell_type": "markdown",
      "id": "172681da",
      "metadata": {
        "id": "172681da"
      },
      "source": [
        "**Answer:** NumPy arrays are faster, use less memory, and support vectorized operations compared to Python lists, which are more flexible but slower for numerical computing."
      ]
    },
    {
      "cell_type": "markdown",
      "id": "d70d6417",
      "metadata": {
        "id": "d70d6417"
      },
      "source": [
        "### Theory Q7: What is a heatmap, and when should it be used"
      ]
    },
    {
      "cell_type": "markdown",
      "id": "ad0cf7b9",
      "metadata": {
        "id": "ad0cf7b9"
      },
      "source": [
        "**Answer:** A heatmap is a visualization that shows data values as colors in a grid. It is used to identify patterns, correlations, or intensity in data."
      ]
    },
    {
      "cell_type": "markdown",
      "id": "c1d81ab8",
      "metadata": {
        "id": "c1d81ab8"
      },
      "source": [
        "### Theory Q8: What does the term “vectorized operation” mean in NumPy"
      ]
    },
    {
      "cell_type": "markdown",
      "id": "4028a604",
      "metadata": {
        "id": "4028a604"
      },
      "source": [
        "**Answer:** Vectorized operations mean applying an operation to an entire array at once without using loops. This makes computations much faster in NumPy."
      ]
    },
    {
      "cell_type": "markdown",
      "id": "3266fdd7",
      "metadata": {
        "id": "3266fdd7"
      },
      "source": [
        "### Theory Q9: How does Matplotlib differ from Plotly"
      ]
    },
    {
      "cell_type": "markdown",
      "id": "92fe75e2",
      "metadata": {
        "id": "92fe75e2"
      },
      "source": [
        "**Answer:** Matplotlib is a basic plotting library suitable for static 2D plots, while Plotly supports interactive and dynamic visualizations with more advanced features."
      ]
    },
    {
      "cell_type": "markdown",
      "id": "7bc5b8ce",
      "metadata": {
        "id": "7bc5b8ce"
      },
      "source": [
        "### Theory Q10: What is the significance of hierarchical indexing in Pandas"
      ]
    },
    {
      "cell_type": "markdown",
      "id": "fa176cee",
      "metadata": {
        "id": "fa176cee"
      },
      "source": [
        "**Answer:** Hierarchical indexing in Pandas allows multiple levels of indexing for rows or columns, making it easier to work with high-dimensional data."
      ]
    },
    {
      "cell_type": "markdown",
      "id": "8eaa62fb",
      "metadata": {
        "id": "8eaa62fb"
      },
      "source": [
        "### Theory Q11: What is the role of Seaborn’s pairplot() function"
      ]
    },
    {
      "cell_type": "markdown",
      "id": "c790b782",
      "metadata": {
        "id": "c790b782"
      },
      "source": [
        "**Answer:** Seaborn's pairplot() function shows relationships between all pairs of numerical variables in a dataset using scatter plots and histograms."
      ]
    },
    {
      "cell_type": "markdown",
      "id": "bc5d45be",
      "metadata": {
        "id": "bc5d45be"
      },
      "source": [
        "### Theory Q12: What is the purpose of the describe() function in Pandas"
      ]
    },
    {
      "cell_type": "markdown",
      "id": "f32fdba1",
      "metadata": {
        "id": "f32fdba1"
      },
      "source": [
        "**Answer:** The describe() function in Pandas gives summary statistics (mean, median, std, min, max, quartiles) of numerical columns in a DataFrame."
      ]
    },
    {
      "cell_type": "markdown",
      "id": "b0d82b7e",
      "metadata": {
        "id": "b0d82b7e"
      },
      "source": [
        "### Theory Q13: Why is handling missing data important in Pandas"
      ]
    },
    {
      "cell_type": "markdown",
      "id": "165f2240",
      "metadata": {
        "id": "165f2240"
      },
      "source": [
        "**Answer:** Handling missing data is important to prevent errors, ensure data quality, and improve accuracy in analysis or modeling."
      ]
    },
    {
      "cell_type": "markdown",
      "id": "0c3585a0",
      "metadata": {
        "id": "0c3585a0"
      },
      "source": [
        "### Theory Q14: What are the benefits of using Plotly for data visualization"
      ]
    },
    {
      "cell_type": "markdown",
      "id": "afd27910",
      "metadata": {
        "id": "afd27910"
      },
      "source": [
        "**Answer:** Plotly provides interactive, high-quality visualizations that can be shared online, making data exploration and presentation more engaging."
      ]
    },
    {
      "cell_type": "markdown",
      "id": "3c1a290c",
      "metadata": {
        "id": "3c1a290c"
      },
      "source": [
        "### Theory Q15: How does NumPy handle multidimensional arrays"
      ]
    },
    {
      "cell_type": "markdown",
      "id": "71ed988a",
      "metadata": {
        "id": "71ed988a"
      },
      "source": [
        "**Answer:** NumPy handles multidimensional arrays (tensors) by providing tools for creation, reshaping, slicing, and mathematical operations efficiently."
      ]
    },
    {
      "cell_type": "markdown",
      "id": "e897fd64",
      "metadata": {
        "id": "e897fd64"
      },
      "source": [
        "### Theory Q16: What is the role of Bokeh in data visualization"
      ]
    },
    {
      "cell_type": "markdown",
      "id": "8af119eb",
      "metadata": {
        "id": "8af119eb"
      },
      "source": [
        "**Answer:** Bokeh is a data visualization library for creating interactive plots and dashboards for web applications."
      ]
    },
    {
      "cell_type": "markdown",
      "id": "2f17e0cc",
      "metadata": {
        "id": "2f17e0cc"
      },
      "source": [
        "### Theory Q17: Explain the difference between apply() and map() in Pandas"
      ]
    },
    {
      "cell_type": "markdown",
      "id": "87388aa8",
      "metadata": {
        "id": "87388aa8"
      },
      "source": [
        "**Answer:** In Pandas, apply() can be used to apply a function to rows or columns, while map() is mainly used for element-wise operations on a Series."
      ]
    },
    {
      "cell_type": "markdown",
      "id": "a7e7ee68",
      "metadata": {
        "id": "a7e7ee68"
      },
      "source": [
        "### Theory Q18: What are some advanced features of NumPy"
      ]
    },
    {
      "cell_type": "markdown",
      "id": "e77e782c",
      "metadata": {
        "id": "e77e782c"
      },
      "source": [
        "**Answer:** Advanced NumPy features include broadcasting, linear algebra operations, random number generation, and support for large multidimensional datasets."
      ]
    },
    {
      "cell_type": "markdown",
      "id": "40b4e843",
      "metadata": {
        "id": "40b4e843"
      },
      "source": [
        "### Theory Q19: How does Pandas simplify time series analysis"
      ]
    },
    {
      "cell_type": "markdown",
      "id": "0a0400d5",
      "metadata": {
        "id": "0a0400d5"
      },
      "source": [
        "**Answer:** Pandas simplifies time series analysis by providing date-time indexing, resampling, rolling windows, and built-in functions for trend analysis."
      ]
    },
    {
      "cell_type": "markdown",
      "id": "84114a4f",
      "metadata": {
        "id": "84114a4f"
      },
      "source": [
        "### Theory Q20: What is the role of a pivot table in Pandas"
      ]
    },
    {
      "cell_type": "markdown",
      "id": "e7353941",
      "metadata": {
        "id": "e7353941"
      },
      "source": [
        "**Answer:** A pivot table in Pandas is used to summarize data by grouping and aggregating values across rows and columns."
      ]
    },
    {
      "cell_type": "markdown",
      "id": "da6e731a",
      "metadata": {
        "id": "da6e731a"
      },
      "source": [
        "### Theory Q21: Why is NumPy’s array slicing faster than Python’s list slicing"
      ]
    },
    {
      "cell_type": "markdown",
      "id": "45bbeaf2",
      "metadata": {
        "id": "45bbeaf2"
      },
      "source": [
        "**Answer:** NumPy slicing is faster because arrays store data in contiguous memory blocks, while Python lists are more flexible but slower as they store references."
      ]
    },
    {
      "cell_type": "markdown",
      "id": "d9a4ab7b",
      "metadata": {
        "id": "d9a4ab7b"
      },
      "source": [
        "### Theory Q22: What are some common use cases for Seaborn?"
      ]
    },
    {
      "cell_type": "markdown",
      "id": "9095059f",
      "metadata": {
        "id": "9095059f"
      },
      "source": [
        "**Answer:** Seaborn is commonly used for visualizing distributions, categorical data, correlations, and creating statistical plots like boxplots, violin plots, and heatmaps."
      ]
    },
    {
      "cell_type": "markdown",
      "id": "3328aa62",
      "metadata": {
        "id": "3328aa62"
      },
      "source": [
        "### Practical Q1: How do you create a 2D NumPy array and calculate the sum of each row"
      ]
    },
    {
      "cell_type": "code",
      "execution_count": null,
      "id": "926b355b",
      "metadata": {
        "id": "926b355b"
      },
      "outputs": [],
      "source": [
        "import numpy as np\n",
        "arr = np.array([[1,2,3],[4,5,6],[7,8,9]])\n",
        "row_sum = arr.sum(axis=1)\n",
        "print(\"Array:\\n\", arr)\n",
        "print(\"Row sums:\", row_sum)"
      ]
    },
    {
      "cell_type": "markdown",
      "id": "3715a3a7",
      "metadata": {
        "id": "3715a3a7"
      },
      "source": [
        "### Practical Q2: Write a Pandas script to find the mean of a specific column in a DataFrame"
      ]
    },
    {
      "cell_type": "code",
      "execution_count": null,
      "id": "f9d138c3",
      "metadata": {
        "id": "f9d138c3"
      },
      "outputs": [],
      "source": [
        "import pandas as pd\n",
        "data = {'A':[10,20,30],'B':[40,50,60]}\n",
        "df = pd.DataFrame(data)\n",
        "print(\"Mean of column B:\", df['B'].mean())"
      ]
    },
    {
      "cell_type": "markdown",
      "id": "34754100",
      "metadata": {
        "id": "34754100"
      },
      "source": [
        "### Practical Q3: Create a scatter plot using Matplotlib"
      ]
    },
    {
      "cell_type": "code",
      "execution_count": null,
      "id": "64ac8f06",
      "metadata": {
        "id": "64ac8f06"
      },
      "outputs": [],
      "source": [
        "import matplotlib.pyplot as plt\n",
        "x = [1,2,3,4,5]\n",
        "y = [2,4,6,8,10]\n",
        "plt.scatter(x,y)\n",
        "plt.title(\"Scatter Plot\")\n",
        "plt.show()"
      ]
    },
    {
      "cell_type": "markdown",
      "id": "e5663230",
      "metadata": {
        "id": "e5663230"
      },
      "source": [
        "### Practical Q4: How do you calculate the correlation matrix using Seaborn and visualize it with a heatmap"
      ]
    },
    {
      "cell_type": "code",
      "execution_count": null,
      "id": "a065cf1a",
      "metadata": {
        "id": "a065cf1a"
      },
      "outputs": [],
      "source": [
        "import seaborn as sns\n",
        "import pandas as pd\n",
        "data = sns.load_dataset('iris')\n",
        "corr = data.corr()\n",
        "sns.heatmap(corr, annot=True, cmap='coolwarm')\n",
        "plt.show()"
      ]
    },
    {
      "cell_type": "markdown",
      "id": "fdf42228",
      "metadata": {
        "id": "fdf42228"
      },
      "source": [
        "### Practical Q5: Generate a bar plot using Plotly"
      ]
    },
    {
      "cell_type": "code",
      "execution_count": null,
      "id": "d2e889a7",
      "metadata": {
        "id": "d2e889a7"
      },
      "outputs": [],
      "source": [
        "import plotly.express as px\n",
        "data = {'Fruit':['Apple','Banana','Orange'],'Count':[10,20,15]}\n",
        "fig = px.bar(data, x='Fruit', y='Count', title=\"Bar Plot\")\n",
        "fig.show()"
      ]
    },
    {
      "cell_type": "markdown",
      "id": "0d5de301",
      "metadata": {
        "id": "0d5de301"
      },
      "source": [
        "### Practical Q6: Create a DataFrame and add a new column based on an existing column"
      ]
    },
    {
      "cell_type": "code",
      "execution_count": null,
      "id": "a5d7ef27",
      "metadata": {
        "id": "a5d7ef27"
      },
      "outputs": [],
      "source": [
        "import pandas as pd\n",
        "df = pd.DataFrame({'A':[1,2,3],'B':[4,5,6]})\n",
        "df['C'] = df['A'] + df['B']\n",
        "print(df)"
      ]
    },
    {
      "cell_type": "markdown",
      "id": "d9b58db6",
      "metadata": {
        "id": "d9b58db6"
      },
      "source": [
        "### Practical Q7: Write a program to perform element-wise multiplication of two NumPy arrays"
      ]
    },
    {
      "cell_type": "code",
      "execution_count": null,
      "id": "dc8f7a38",
      "metadata": {
        "id": "dc8f7a38"
      },
      "outputs": [],
      "source": [
        "import numpy as np\n",
        "a = np.array([1,2,3])\n",
        "b = np.array([4,5,6])\n",
        "print(\"Element-wise multiplication:\", a*b)"
      ]
    },
    {
      "cell_type": "markdown",
      "id": "042985b0",
      "metadata": {
        "id": "042985b0"
      },
      "source": [
        "### Practical Q8: Create a line plot with multiple lines using Matplotlib"
      ]
    },
    {
      "cell_type": "code",
      "execution_count": null,
      "id": "d3bbbec0",
      "metadata": {
        "id": "d3bbbec0"
      },
      "outputs": [],
      "source": [
        "import matplotlib.pyplot as plt\n",
        "x = [1,2,3,4,5]\n",
        "y1 = [2,4,6,8,10]\n",
        "y2 = [1,3,5,7,9]\n",
        "plt.plot(x,y1,label=\"Line 1\")\n",
        "plt.plot(x,y2,label=\"Line 2\")\n",
        "plt.legend()\n",
        "plt.title(\"Multiple Line Plot\")\n",
        "plt.show()"
      ]
    },
    {
      "cell_type": "markdown",
      "id": "b56562df",
      "metadata": {
        "id": "b56562df"
      },
      "source": [
        "### Practical Q9: Generate a Pandas DataFrame and filter rows where a column value is greater than a threshold"
      ]
    },
    {
      "cell_type": "code",
      "execution_count": null,
      "id": "64327f94",
      "metadata": {
        "id": "64327f94"
      },
      "outputs": [],
      "source": [
        "import pandas as pd\n",
        "df = pd.DataFrame({'A':[10,20,30,40],'B':[100,200,300,400]})\n",
        "print(df[df['A']>20])"
      ]
    },
    {
      "cell_type": "markdown",
      "id": "f18bf770",
      "metadata": {
        "id": "f18bf770"
      },
      "source": [
        "### Practical Q10: Create a histogram using Seaborn to visualize a distribution"
      ]
    },
    {
      "cell_type": "code",
      "execution_count": null,
      "id": "8249066c",
      "metadata": {
        "id": "8249066c"
      },
      "outputs": [],
      "source": [
        "import seaborn as sns\n",
        "import numpy as np\n",
        "data = np.random.randn(1000)\n",
        "sns.histplot(data, bins=30, kde=True)\n",
        "plt.show()"
      ]
    },
    {
      "cell_type": "markdown",
      "id": "3b9d59ec",
      "metadata": {
        "id": "3b9d59ec"
      },
      "source": [
        "### Practical Q11: Perform matrix multiplication using NumPy"
      ]
    },
    {
      "cell_type": "code",
      "execution_count": null,
      "id": "02d628a3",
      "metadata": {
        "id": "02d628a3"
      },
      "outputs": [],
      "source": [
        "import numpy as np\n",
        "A = np.array([[1,2],[3,4]])\n",
        "B = np.array([[5,6],[7,8]])\n",
        "C = np.dot(A,B)\n",
        "print(\"Matrix multiplication:\\n\", C)"
      ]
    },
    {
      "cell_type": "markdown",
      "id": "a8273d51",
      "metadata": {
        "id": "a8273d51"
      },
      "source": [
        "### Practical Q12: Use Pandas to load a CSV file and display its first 5 rows"
      ]
    },
    {
      "cell_type": "code",
      "execution_count": null,
      "id": "6e208149",
      "metadata": {
        "id": "6e208149"
      },
      "outputs": [],
      "source": [
        "import pandas as pd\n",
        "df = pd.read_csv('sample.csv')  # replace with your CSV file\n",
        "print(df.head())"
      ]
    },
    {
      "cell_type": "markdown",
      "id": "e199056e",
      "metadata": {
        "id": "e199056e"
      },
      "source": [
        "### Practical Q13: Create a 3D scatter plot using Plotly."
      ]
    },
    {
      "cell_type": "code",
      "execution_count": null,
      "id": "5be89d02",
      "metadata": {
        "id": "5be89d02"
      },
      "outputs": [],
      "source": [
        "import plotly.express as px\n",
        "import pandas as pd\n",
        "import numpy as np\n",
        "df = pd.DataFrame({'x':np.random.randn(50),\n",
        "                   'y':np.random.randn(50),\n",
        "                   'z':np.random.randn(50)})\n",
        "fig = px.scatter_3d(df, x='x', y='y', z='z', title=\"3D Scatter Plot\")\n",
        "fig.show()"
      ]
    }
  ],
  "metadata": {
    "colab": {
      "provenance": []
    }
  },
  "nbformat": 4,
  "nbformat_minor": 5
}